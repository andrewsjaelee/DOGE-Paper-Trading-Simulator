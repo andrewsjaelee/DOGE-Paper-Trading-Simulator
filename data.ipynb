{
 "cells": [
  {
   "cell_type": "code",
   "execution_count": 10,
   "metadata": {},
   "outputs": [],
   "source": [
    "import pandas as pd\n",
    "from sqlalchemy import create_engine\n",
    "import unicorn_binance_websocket_api as unicorn"
   ]
  },
  {
   "cell_type": "code",
   "execution_count": 11,
   "metadata": {},
   "outputs": [],
   "source": [
    "engine = create_engine('sqlite:///Liveprice.db')"
   ]
  },
  {
   "cell_type": "code",
   "execution_count": 12,
   "metadata": {},
   "outputs": [],
   "source": [
    "ubwa = unicorn.BinanceWebSocketApiManager(exchange='binance.com')"
   ]
  },
  {
   "cell_type": "code",
   "execution_count": 13,
   "metadata": {},
   "outputs": [
    {
     "data": {
      "text/plain": [
       "'475015ecadab-0667-a159-eb82-966da4c8'"
      ]
     },
     "execution_count": 13,
     "metadata": {},
     "output_type": "execute_result"
    }
   ],
   "source": [
    "ubwa.create_stream('kline_1m', 'DOGEUSDT', output='UnicornFy')"
   ]
  },
  {
   "cell_type": "code",
   "execution_count": 16,
   "metadata": {},
   "outputs": [],
   "source": [
    "data = ubwa.pop_stream_data_from_stream_buffer()"
   ]
  },
  {
   "cell_type": "code",
   "execution_count": 17,
   "metadata": {},
   "outputs": [
    {
     "data": {
      "text/plain": [
       "{'stream_type': 'dogeusdt@kline_1m',\n",
       " 'event_type': 'kline',\n",
       " 'event_time': 1663686125923,\n",
       " 'symbol': 'DOGEUSDT',\n",
       " 'kline': {'kline_start_time': 1663686120000,\n",
       "  'kline_close_time': 1663686179999,\n",
       "  'symbol': 'DOGEUSDT',\n",
       "  'interval': '1m',\n",
       "  'first_trade_id': False,\n",
       "  'last_trade_id': False,\n",
       "  'open_price': '0.05876000',\n",
       "  'close_price': '0.05876000',\n",
       "  'high_price': '0.05876000',\n",
       "  'low_price': '0.05876000',\n",
       "  'base_volume': '3674.00000000',\n",
       "  'number_of_trades': 3,\n",
       "  'is_closed': False,\n",
       "  'quote': '215.88424000',\n",
       "  'taker_by_base_asset_volume': '1662.00000000',\n",
       "  'taker_by_quote_asset_volume': '97.65912000',\n",
       "  'ignore': '0'},\n",
       " 'unicorn_fied': ['binance.com', '0.12.2']}"
      ]
     },
     "execution_count": 17,
     "metadata": {},
     "output_type": "execute_result"
    }
   ],
   "source": [
    "data"
   ]
  },
  {
   "cell_type": "code",
   "execution_count": 18,
   "metadata": {},
   "outputs": [
    {
     "data": {
      "text/plain": [
       "Timestamp('2022-09-20 09:10:15.861000')"
      ]
     },
     "execution_count": 18,
     "metadata": {},
     "output_type": "execute_result"
    }
   ],
   "source": [
    "pd.to_datetime(1663665015861, unit='ms')"
   ]
  },
  {
   "cell_type": "code",
   "execution_count": 19,
   "metadata": {},
   "outputs": [],
   "source": [
    "def SQLimport(data): \n",
    "    time = pd.to_datetime(data['event_time'], unit='ms')\n",
    "    close = float(data['kline']['close_price'])\n",
    "    frame = pd.DataFrame({'timestamp':time, 'price':close}, index=[0])\n",
    "    frame.to_sql(data['symbol'], engine, index=False, if_exists='append')"
   ]
  },
  {
   "cell_type": "code",
   "execution_count": 21,
   "metadata": {},
   "outputs": [
    {
     "ename": "KeyboardInterrupt",
     "evalue": "",
     "output_type": "error",
     "traceback": [
      "\u001b[0;31m---------------------------------------------------------------------------\u001b[0m",
      "\u001b[0;31mKeyboardInterrupt\u001b[0m                         Traceback (most recent call last)",
      "\u001b[1;32m/Users/andylee/Desktop/projects/elon_crypto_bot/data.ipynb Cell 9\u001b[0m in \u001b[0;36m<cell line: 2>\u001b[0;34m()\u001b[0m\n\u001b[1;32m      <a href='vscode-notebook-cell:/Users/andylee/Desktop/projects/elon_crypto_bot/data.ipynb#X11sZmlsZQ%3D%3D?line=0'>1</a>\u001b[0m \u001b[39mwhile\u001b[39;00m \u001b[39mTrue\u001b[39;00m:\n\u001b[0;32m----> <a href='vscode-notebook-cell:/Users/andylee/Desktop/projects/elon_crypto_bot/data.ipynb#X11sZmlsZQ%3D%3D?line=1'>2</a>\u001b[0m     data \u001b[39m=\u001b[39m ubwa\u001b[39m.\u001b[39;49mpop_stream_data_from_stream_buffer()\n\u001b[1;32m      <a href='vscode-notebook-cell:/Users/andylee/Desktop/projects/elon_crypto_bot/data.ipynb#X11sZmlsZQ%3D%3D?line=2'>3</a>\u001b[0m     \u001b[39mif\u001b[39;00m data \u001b[39mand\u001b[39;00m \u001b[39mlen\u001b[39m(data) \u001b[39m>\u001b[39m \u001b[39m3\u001b[39m:\n\u001b[1;32m      <a href='vscode-notebook-cell:/Users/andylee/Desktop/projects/elon_crypto_bot/data.ipynb#X11sZmlsZQ%3D%3D?line=3'>4</a>\u001b[0m         SQLimport(data)\n",
      "File \u001b[0;32m~/opt/anaconda3/lib/python3.9/site-packages/unicorn_binance_websocket_api/manager.py:2823\u001b[0m, in \u001b[0;36mBinanceWebSocketApiManager.pop_stream_data_from_stream_buffer\u001b[0;34m(self, stream_buffer_name, mode)\u001b[0m\n\u001b[1;32m   2821\u001b[0m \u001b[39mif\u001b[39;00m stream_buffer_name \u001b[39mis\u001b[39;00m \u001b[39mFalse\u001b[39;00m:\n\u001b[1;32m   2822\u001b[0m     \u001b[39mtry\u001b[39;00m:\n\u001b[0;32m-> 2823\u001b[0m         \u001b[39mwith\u001b[39;00m \u001b[39mself\u001b[39m\u001b[39m.\u001b[39mstream_buffer_lock:\n\u001b[1;32m   2824\u001b[0m             \u001b[39mif\u001b[39;00m mode\u001b[39m.\u001b[39mupper() \u001b[39m==\u001b[39m \u001b[39m\"\u001b[39m\u001b[39mFIFO\u001b[39m\u001b[39m\"\u001b[39m:\n\u001b[1;32m   2825\u001b[0m                 stream_data \u001b[39m=\u001b[39m \u001b[39mself\u001b[39m\u001b[39m.\u001b[39mstream_buffer\u001b[39m.\u001b[39mpopleft()\n",
      "\u001b[0;31mKeyboardInterrupt\u001b[0m: "
     ]
    }
   ],
   "source": [
    "while True:\n",
    "    data = ubwa.pop_stream_data_from_stream_buffer()\n",
    "    if data and len(data) > 3:\n",
    "        SQLimport(data)"
   ]
  }
 ],
 "metadata": {
  "kernelspec": {
   "display_name": "Python 3.9.12 ('base')",
   "language": "python",
   "name": "python3"
  },
  "language_info": {
   "codemirror_mode": {
    "name": "ipython",
    "version": 3
   },
   "file_extension": ".py",
   "mimetype": "text/x-python",
   "name": "python",
   "nbconvert_exporter": "python",
   "pygments_lexer": "ipython3",
   "version": "3.9.12"
  },
  "orig_nbformat": 4,
  "vscode": {
   "interpreter": {
    "hash": "63cdb56e09a00dd08f47a70022e8a9ae04f453d80c83a43d668c45975228ed54"
   }
  }
 },
 "nbformat": 4,
 "nbformat_minor": 2
}
